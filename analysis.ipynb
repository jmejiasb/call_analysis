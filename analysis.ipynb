{
 "cells": [
  {
   "cell_type": "markdown",
   "id": "e763b7e6-47ec-486a-93f4-a6fa76047b95",
   "metadata": {},
   "source": [
    "## ANALISIS DE DATOS DE LLAMADA DE MESA DE SERVICIO ENTRE EL 17 Y EL 29 DE JULIO"
   ]
  },
  {
   "cell_type": "markdown",
   "id": "1382e503-df01-4c6a-a574-92b0bf4cca44",
   "metadata": {},
   "source": [
    "### Objetivos"
   ]
  },
  {
   "cell_type": "markdown",
   "id": "17aebe89-de74-4210-b1ef-bc0485609bca",
   "metadata": {},
   "source": [
    "#### - Limpiar datos\n",
    "#### - Graficar numero de llamados por dia\n",
    "#### - Graficar consultas/areas mas frecuentes\n",
    "#### - Graficar consultas/areas agrupadas por dia"
   ]
  },
  {
   "cell_type": "markdown",
   "id": "ac282277-0726-4c0f-b48b-640f4fa3153f",
   "metadata": {},
   "source": [
    "<br>"
   ]
  },
  {
   "cell_type": "markdown",
   "id": "79ce218a-3440-42ba-a405-bc15b29f7c9c",
   "metadata": {},
   "source": [
    "Se importan los modulos de numpy y pandas para manejar los datos; y los modulos matplotlib y seaborn para realizar los graficos."
   ]
  },
  {
   "cell_type": "code",
   "execution_count": 4,
   "id": "2ad922fd-45ca-4683-ab16-1f897a3c5615",
   "metadata": {},
   "outputs": [],
   "source": [
    "import numpy as np\n",
    "import pandas as pd\n",
    "import os\n",
    "import matplotlib.pyplot as plt\n",
    "import seaborn as sns"
   ]
  },
  {
   "cell_type": "markdown",
   "id": "6d2af4f0-75b1-4e04-9380-bf15fce44d72",
   "metadata": {},
   "source": [
    "#### Limpieza de datos"
   ]
  },
  {
   "cell_type": "markdown",
   "id": "dac8bc56-8c44-4d82-918b-c776fad9eb46",
   "metadata": {},
   "source": [
    "Ante de importar el csv se eliminaron los datos personales del archivo, especificamente las columnas 'ID_ATENCION', 'RUT_CLIENTE', 'NOMBRE_CLIENTE', 'USUARIO_CREACION', 'USUARIO_ASIG', 'ESTADO_ATENCION', 'ESFUERZO', 'TIEMPO_RESOLUCION', 'OBSERVACION', 'OBSERVACION_CLIENTE'\n",
    "\n",
    "La columna 'AREA' y 'SEDE' decidi eliminarlas ya que solo se tenian datos de la mesa de servicios de la sede Antonio Varas"
   ]
  },
  {
   "cell_type": "markdown",
   "id": "4e69cd80-6a45-4665-87e0-12d9cd185837",
   "metadata": {},
   "source": [
    "Importamos el csv con los datos a un DataFrame de pandas "
   ]
  },
  {
   "cell_type": "code",
   "execution_count": 5,
   "id": "670cf207-4560-46cc-8272-a8a7709ff71a",
   "metadata": {},
   "outputs": [
    {
     "data": {
      "text/html": [
       "<div>\n",
       "<style scoped>\n",
       "    .dataframe tbody tr th:only-of-type {\n",
       "        vertical-align: middle;\n",
       "    }\n",
       "\n",
       "    .dataframe tbody tr th {\n",
       "        vertical-align: top;\n",
       "    }\n",
       "\n",
       "    .dataframe thead th {\n",
       "        text-align: right;\n",
       "    }\n",
       "</style>\n",
       "<table border=\"1\" class=\"dataframe\">\n",
       "  <thead>\n",
       "    <tr style=\"text-align: right;\">\n",
       "      <th></th>\n",
       "      <th>FECHA_CREACION</th>\n",
       "      <th>CARRERA</th>\n",
       "      <th>NIVEL_1</th>\n",
       "      <th>NIVEL_2</th>\n",
       "      <th>NIVEL_3</th>\n",
       "      <th>NIVEL_4</th>\n",
       "    </tr>\n",
       "  </thead>\n",
       "  <tbody>\n",
       "    <tr>\n",
       "      <th>545</th>\n",
       "      <td>26-07-2023 13:24</td>\n",
       "      <td>ECOTURISMO</td>\n",
       "      <td>Inscripción de asign</td>\n",
       "      <td>Oferta académica</td>\n",
       "      <td>Asignatura no disponible</td>\n",
       "      <td>Resuelto</td>\n",
       "    </tr>\n",
       "    <tr>\n",
       "      <th>476</th>\n",
       "      <td>26-07-2023 14:37</td>\n",
       "      <td>GASTRONOMÍA INTERNACIONAL</td>\n",
       "      <td>Inscripción de asign</td>\n",
       "      <td>Información del proceso</td>\n",
       "      <td>Uso plataforma IA</td>\n",
       "      <td>Resuelto</td>\n",
       "    </tr>\n",
       "    <tr>\n",
       "      <th>564</th>\n",
       "      <td>26-07-2023 13:16</td>\n",
       "      <td>GASTRONOMÍA INTERNACIONAL</td>\n",
       "      <td>Tecnología</td>\n",
       "      <td>Plataformas Alumnos</td>\n",
       "      <td>SAP NetWork IA</td>\n",
       "      <td>Resuelto</td>\n",
       "    </tr>\n",
       "    <tr>\n",
       "      <th>1493</th>\n",
       "      <td>18-07-2023 9:21</td>\n",
       "      <td>INGENIERÍA EN CONECTIVIDAD Y REDES</td>\n",
       "      <td>Titulado</td>\n",
       "      <td>Información y gestión</td>\n",
       "      <td>Otras consultas</td>\n",
       "      <td>Resuelto</td>\n",
       "    </tr>\n",
       "    <tr>\n",
       "      <th>314</th>\n",
       "      <td>26-07-2023 19:22</td>\n",
       "      <td>INGENIERÍA EN ADMINISTRACIÓN MENCIÓN GESTIÓN D...</td>\n",
       "      <td>Fuera de alcance</td>\n",
       "      <td>Fuera de alcance</td>\n",
       "      <td>Fuera de alcance</td>\n",
       "      <td>Resuelto</td>\n",
       "    </tr>\n",
       "  </tbody>\n",
       "</table>\n",
       "</div>"
      ],
      "text/plain": [
       "        FECHA_CREACION                                            CARRERA  \\\n",
       "545   26-07-2023 13:24                                         ECOTURISMO   \n",
       "476   26-07-2023 14:37                          GASTRONOMÍA INTERNACIONAL   \n",
       "564   26-07-2023 13:16                          GASTRONOMÍA INTERNACIONAL   \n",
       "1493   18-07-2023 9:21                 INGENIERÍA EN CONECTIVIDAD Y REDES   \n",
       "314   26-07-2023 19:22  INGENIERÍA EN ADMINISTRACIÓN MENCIÓN GESTIÓN D...   \n",
       "\n",
       "                   NIVEL_1                  NIVEL_2                   NIVEL_3  \\\n",
       "545   Inscripción de asign         Oferta académica  Asignatura no disponible   \n",
       "476   Inscripción de asign  Información del proceso         Uso plataforma IA   \n",
       "564             Tecnología      Plataformas Alumnos            SAP NetWork IA   \n",
       "1493              Titulado    Información y gestión           Otras consultas   \n",
       "314       Fuera de alcance         Fuera de alcance          Fuera de alcance   \n",
       "\n",
       "       NIVEL_4  \n",
       "545   Resuelto  \n",
       "476   Resuelto  \n",
       "564   Resuelto  \n",
       "1493  Resuelto  \n",
       "314   Resuelto  "
      ]
     },
     "execution_count": 5,
     "metadata": {},
     "output_type": "execute_result"
    }
   ],
   "source": [
    "call_csv_route = os.path.join(\"res\",\"exporte_tickets_17al29.csv\")\n",
    "call_df = pd.read_csv(call_csv_route, engine=\"python\", header=0, delimiter=\";\")\n",
    "\n",
    "call_df.sample(5)"
   ]
  },
  {
   "cell_type": "code",
   "execution_count": 6,
   "id": "b3b00f37-a560-4f0e-8253-a094fb9a3c0b",
   "metadata": {},
   "outputs": [
    {
     "data": {
      "text/plain": [
       "Index(['FECHA_CREACION', 'CARRERA', 'NIVEL_1', 'NIVEL_2', 'NIVEL_3',\n",
       "       'NIVEL_4'],\n",
       "      dtype='object')"
      ]
     },
     "execution_count": 6,
     "metadata": {},
     "output_type": "execute_result"
    }
   ],
   "source": [
    "call_df.columns"
   ]
  },
  {
   "cell_type": "code",
   "execution_count": 7,
   "id": "89266714-2787-457f-9011-bf71c3cf24ea",
   "metadata": {},
   "outputs": [
    {
     "name": "stdout",
     "output_type": "stream",
     "text": [
      "<class 'pandas.core.frame.DataFrame'>\n",
      "RangeIndex: 1565 entries, 0 to 1564\n",
      "Data columns (total 6 columns):\n",
      " #   Column          Non-Null Count  Dtype \n",
      "---  ------          --------------  ----- \n",
      " 0   FECHA_CREACION  1565 non-null   object\n",
      " 1   CARRERA         1552 non-null   object\n",
      " 2   NIVEL_1         1565 non-null   object\n",
      " 3   NIVEL_2         1565 non-null   object\n",
      " 4   NIVEL_3         1565 non-null   object\n",
      " 5   NIVEL_4         1565 non-null   object\n",
      "dtypes: object(6)\n",
      "memory usage: 73.5+ KB\n"
     ]
    }
   ],
   "source": [
    "call_df.info()"
   ]
  },
  {
   "cell_type": "markdown",
   "id": "e20bbb85-7a9d-4baf-a55e-50e40608456d",
   "metadata": {},
   "source": [
    "Se eliminara la columna \"NIVEL_5\" porque esta vacia"
   ]
  },
  {
   "cell_type": "markdown",
   "id": "a769cdff-3c88-45af-a172-ea6844fe080d",
   "metadata": {},
   "source": [
    "Cambiamos el tipo de datos de la columna \"FECHA_CREACION\" de object a datetime"
   ]
  },
  {
   "cell_type": "code",
   "execution_count": 8,
   "id": "2aeb8d6c-52f5-4ae8-980c-57f66a5feb65",
   "metadata": {},
   "outputs": [
    {
     "name": "stdout",
     "output_type": "stream",
     "text": [
      "<class 'pandas.core.frame.DataFrame'>\n",
      "RangeIndex: 1565 entries, 0 to 1564\n",
      "Data columns (total 6 columns):\n",
      " #   Column          Non-Null Count  Dtype         \n",
      "---  ------          --------------  -----         \n",
      " 0   FECHA_CREACION  1565 non-null   datetime64[ns]\n",
      " 1   CARRERA         1552 non-null   object        \n",
      " 2   NIVEL_1         1565 non-null   object        \n",
      " 3   NIVEL_2         1565 non-null   object        \n",
      " 4   NIVEL_3         1565 non-null   object        \n",
      " 5   NIVEL_4         1565 non-null   object        \n",
      "dtypes: datetime64[ns](1), object(5)\n",
      "memory usage: 73.5+ KB\n"
     ]
    }
   ],
   "source": [
    "call_df[\"FECHA_CREACION\"] = pd.to_datetime(call_df[\"FECHA_CREACION\"], dayfirst=True)\n",
    "\n",
    "call_df.info()"
   ]
  },
  {
   "cell_type": "code",
   "execution_count": 9,
   "id": "553d5b1a-7a6a-4f54-b472-29f0deda01fd",
   "metadata": {},
   "outputs": [
    {
     "data": {
      "text/html": [
       "<div>\n",
       "<style scoped>\n",
       "    .dataframe tbody tr th:only-of-type {\n",
       "        vertical-align: middle;\n",
       "    }\n",
       "\n",
       "    .dataframe tbody tr th {\n",
       "        vertical-align: top;\n",
       "    }\n",
       "\n",
       "    .dataframe thead th {\n",
       "        text-align: right;\n",
       "    }\n",
       "</style>\n",
       "<table border=\"1\" class=\"dataframe\">\n",
       "  <thead>\n",
       "    <tr style=\"text-align: right;\">\n",
       "      <th></th>\n",
       "      <th>FECHA_CREACION</th>\n",
       "      <th>CARRERA</th>\n",
       "      <th>NIVEL_1</th>\n",
       "      <th>NIVEL_2</th>\n",
       "      <th>NIVEL_3</th>\n",
       "      <th>NIVEL_4</th>\n",
       "    </tr>\n",
       "  </thead>\n",
       "  <tbody>\n",
       "    <tr>\n",
       "      <th>1515</th>\n",
       "      <td>2023-07-17 16:59:00</td>\n",
       "      <td>GASTRONOMÍA INTERNACIONAL</td>\n",
       "      <td>Académico</td>\n",
       "      <td>Interrupción del semestre</td>\n",
       "      <td>Suspensión</td>\n",
       "      <td>Resuelto</td>\n",
       "    </tr>\n",
       "    <tr>\n",
       "      <th>786</th>\n",
       "      <td>2023-07-26 11:36:00</td>\n",
       "      <td>INGENIERÍA EN COMERCIO EXTERIOR</td>\n",
       "      <td>Inscripción de asign</td>\n",
       "      <td>Información del proceso</td>\n",
       "      <td>Uso plataforma IA</td>\n",
       "      <td>Resuelto</td>\n",
       "    </tr>\n",
       "    <tr>\n",
       "      <th>1525</th>\n",
       "      <td>2023-07-17 14:37:00</td>\n",
       "      <td>INGENIERÍA EN MARKETING DIGITAL</td>\n",
       "      <td>Información general</td>\n",
       "      <td>Información general</td>\n",
       "      <td>Servicios y otros</td>\n",
       "      <td>Resuelto</td>\n",
       "    </tr>\n",
       "    <tr>\n",
       "      <th>957</th>\n",
       "      <td>2023-07-25 09:17:00</td>\n",
       "      <td>INGENIERÍA EN INFORMÁTICA</td>\n",
       "      <td>Titulado</td>\n",
       "      <td>Información y gestión</td>\n",
       "      <td>Cuenta titulado</td>\n",
       "      <td>Resuelto</td>\n",
       "    </tr>\n",
       "    <tr>\n",
       "      <th>1478</th>\n",
       "      <td>2023-07-18 11:37:00</td>\n",
       "      <td>INGENIERÍA EN ADMINISTRACIÓN</td>\n",
       "      <td>Titulado</td>\n",
       "      <td>Información y gestión</td>\n",
       "      <td>Certificado de título</td>\n",
       "      <td>Resuelto</td>\n",
       "    </tr>\n",
       "  </tbody>\n",
       "</table>\n",
       "</div>"
      ],
      "text/plain": [
       "          FECHA_CREACION                          CARRERA  \\\n",
       "1515 2023-07-17 16:59:00        GASTRONOMÍA INTERNACIONAL   \n",
       "786  2023-07-26 11:36:00  INGENIERÍA EN COMERCIO EXTERIOR   \n",
       "1525 2023-07-17 14:37:00  INGENIERÍA EN MARKETING DIGITAL   \n",
       "957  2023-07-25 09:17:00        INGENIERÍA EN INFORMÁTICA   \n",
       "1478 2023-07-18 11:37:00     INGENIERÍA EN ADMINISTRACIÓN   \n",
       "\n",
       "                   NIVEL_1                    NIVEL_2                NIVEL_3  \\\n",
       "1515             Académico  Interrupción del semestre             Suspensión   \n",
       "786   Inscripción de asign    Información del proceso      Uso plataforma IA   \n",
       "1525   Información general        Información general      Servicios y otros   \n",
       "957               Titulado      Información y gestión        Cuenta titulado   \n",
       "1478              Titulado      Información y gestión  Certificado de título   \n",
       "\n",
       "       NIVEL_4  \n",
       "1515  Resuelto  \n",
       "786   Resuelto  \n",
       "1525  Resuelto  \n",
       "957   Resuelto  \n",
       "1478  Resuelto  "
      ]
     },
     "execution_count": 9,
     "metadata": {},
     "output_type": "execute_result"
    }
   ],
   "source": [
    "call_df.sample(5)"
   ]
  },
  {
   "cell_type": "markdown",
   "id": "b79a851f-38ad-45ae-8510-599b38d1be61",
   "metadata": {},
   "source": [
    "Rellenamos los datos NaN que quedan en carrera con \"Sin Informacion\""
   ]
  },
  {
   "cell_type": "code",
   "execution_count": 10,
   "id": "1556f5d9-f4f6-41c0-9a0a-f9b3e2fb6bfc",
   "metadata": {},
   "outputs": [
    {
     "data": {
      "text/html": [
       "<div>\n",
       "<style scoped>\n",
       "    .dataframe tbody tr th:only-of-type {\n",
       "        vertical-align: middle;\n",
       "    }\n",
       "\n",
       "    .dataframe tbody tr th {\n",
       "        vertical-align: top;\n",
       "    }\n",
       "\n",
       "    .dataframe thead th {\n",
       "        text-align: right;\n",
       "    }\n",
       "</style>\n",
       "<table border=\"1\" class=\"dataframe\">\n",
       "  <thead>\n",
       "    <tr style=\"text-align: right;\">\n",
       "      <th></th>\n",
       "      <th>FECHA_CREACION</th>\n",
       "      <th>CARRERA</th>\n",
       "      <th>NIVEL_1</th>\n",
       "      <th>NIVEL_2</th>\n",
       "      <th>NIVEL_3</th>\n",
       "      <th>NIVEL_4</th>\n",
       "    </tr>\n",
       "  </thead>\n",
       "  <tbody>\n",
       "    <tr>\n",
       "      <th>418</th>\n",
       "      <td>2023-07-26 17:37:00</td>\n",
       "      <td>INGENIERÍA EN COMERCIO EXTERIOR</td>\n",
       "      <td>Inscripción de asign</td>\n",
       "      <td>Información del proceso</td>\n",
       "      <td>Ventana de inscripción</td>\n",
       "      <td>Resuelto</td>\n",
       "    </tr>\n",
       "    <tr>\n",
       "      <th>417</th>\n",
       "      <td>2023-07-26 17:37:00</td>\n",
       "      <td>GASTRONOMÍA INTERNACIONAL</td>\n",
       "      <td>Académico</td>\n",
       "      <td>Contacto coordinador de carrera</td>\n",
       "      <td>Programa de estudios</td>\n",
       "      <td>Resuelto</td>\n",
       "    </tr>\n",
       "    <tr>\n",
       "      <th>1100</th>\n",
       "      <td>2023-07-24 09:23:00</td>\n",
       "      <td>GASTRONOMÍA INTERNACIONAL</td>\n",
       "      <td>Financiamiento</td>\n",
       "      <td>Pagos y Deudas</td>\n",
       "      <td>Pago en línea</td>\n",
       "      <td>Resuelto</td>\n",
       "    </tr>\n",
       "    <tr>\n",
       "      <th>1274</th>\n",
       "      <td>2023-07-20 11:35:00</td>\n",
       "      <td>TOURISM AND HOSPITALITY</td>\n",
       "      <td>Inscripción de asign</td>\n",
       "      <td>Información del proceso</td>\n",
       "      <td>Ventana de inscripción</td>\n",
       "      <td>Resuelto</td>\n",
       "    </tr>\n",
       "    <tr>\n",
       "      <th>179</th>\n",
       "      <td>2023-07-28 09:56:00</td>\n",
       "      <td>GASTRONOMÍA INTERNACIONAL</td>\n",
       "      <td>Fuera de alcance</td>\n",
       "      <td>Fuera de alcance</td>\n",
       "      <td>Fuera de alcance</td>\n",
       "      <td>Resuelto</td>\n",
       "    </tr>\n",
       "  </tbody>\n",
       "</table>\n",
       "</div>"
      ],
      "text/plain": [
       "          FECHA_CREACION                          CARRERA  \\\n",
       "418  2023-07-26 17:37:00  INGENIERÍA EN COMERCIO EXTERIOR   \n",
       "417  2023-07-26 17:37:00        GASTRONOMÍA INTERNACIONAL   \n",
       "1100 2023-07-24 09:23:00        GASTRONOMÍA INTERNACIONAL   \n",
       "1274 2023-07-20 11:35:00          TOURISM AND HOSPITALITY   \n",
       "179  2023-07-28 09:56:00        GASTRONOMÍA INTERNACIONAL   \n",
       "\n",
       "                   NIVEL_1                          NIVEL_2  \\\n",
       "418   Inscripción de asign          Información del proceso   \n",
       "417              Académico  Contacto coordinador de carrera   \n",
       "1100        Financiamiento                   Pagos y Deudas   \n",
       "1274  Inscripción de asign          Información del proceso   \n",
       "179       Fuera de alcance                 Fuera de alcance   \n",
       "\n",
       "                     NIVEL_3   NIVEL_4  \n",
       "418   Ventana de inscripción  Resuelto  \n",
       "417     Programa de estudios  Resuelto  \n",
       "1100           Pago en línea  Resuelto  \n",
       "1274  Ventana de inscripción  Resuelto  \n",
       "179         Fuera de alcance  Resuelto  "
      ]
     },
     "execution_count": 10,
     "metadata": {},
     "output_type": "execute_result"
    }
   ],
   "source": [
    "call_df[\"CARRERA\"] = call_df[\"CARRERA\"].fillna(\"Sin Informacion\")\n",
    "\n",
    "call_df.sample(5)"
   ]
  },
  {
   "cell_type": "code",
   "execution_count": 11,
   "id": "17833c72-b62d-457d-a8ea-b7f12f63ed4d",
   "metadata": {},
   "outputs": [
    {
     "name": "stdout",
     "output_type": "stream",
     "text": [
      "<class 'pandas.core.frame.DataFrame'>\n",
      "RangeIndex: 1565 entries, 0 to 1564\n",
      "Data columns (total 6 columns):\n",
      " #   Column          Non-Null Count  Dtype         \n",
      "---  ------          --------------  -----         \n",
      " 0   FECHA_CREACION  1565 non-null   datetime64[ns]\n",
      " 1   CARRERA         1565 non-null   object        \n",
      " 2   NIVEL_1         1565 non-null   object        \n",
      " 3   NIVEL_2         1565 non-null   object        \n",
      " 4   NIVEL_3         1565 non-null   object        \n",
      " 5   NIVEL_4         1565 non-null   object        \n",
      "dtypes: datetime64[ns](1), object(5)\n",
      "memory usage: 73.5+ KB\n"
     ]
    }
   ],
   "source": [
    "call_df.info()"
   ]
  },
  {
   "cell_type": "markdown",
   "id": "f8c4917c-05b5-4b08-82fb-fabdb7e345bf",
   "metadata": {},
   "source": [
    "#### Grafico numero de llamados por dia"
   ]
  },
  {
   "cell_type": "markdown",
   "id": "30e0334a-ec8f-49fc-bbae-cf5b5fa37424",
   "metadata": {},
   "source": [
    "Se crea otro Dataframe agrupando el numero de llamados por dia."
   ]
  },
  {
   "cell_type": "code",
   "execution_count": 12,
   "id": "dab985d6-4980-4628-920f-5fc04a0d7745",
   "metadata": {},
   "outputs": [
    {
     "data": {
      "text/html": [
       "<div>\n",
       "<style scoped>\n",
       "    .dataframe tbody tr th:only-of-type {\n",
       "        vertical-align: middle;\n",
       "    }\n",
       "\n",
       "    .dataframe tbody tr th {\n",
       "        vertical-align: top;\n",
       "    }\n",
       "\n",
       "    .dataframe thead th {\n",
       "        text-align: right;\n",
       "    }\n",
       "</style>\n",
       "<table border=\"1\" class=\"dataframe\">\n",
       "  <thead>\n",
       "    <tr style=\"text-align: right;\">\n",
       "      <th></th>\n",
       "      <th>FECHA_CREACION</th>\n",
       "      <th>N° Llamados</th>\n",
       "    </tr>\n",
       "  </thead>\n",
       "  <tbody>\n",
       "    <tr>\n",
       "      <th>0</th>\n",
       "      <td>2023-07-17</td>\n",
       "      <td>70</td>\n",
       "    </tr>\n",
       "    <tr>\n",
       "      <th>1</th>\n",
       "      <td>2023-07-18</td>\n",
       "      <td>79</td>\n",
       "    </tr>\n",
       "    <tr>\n",
       "      <th>2</th>\n",
       "      <td>2023-07-19</td>\n",
       "      <td>124</td>\n",
       "    </tr>\n",
       "    <tr>\n",
       "      <th>3</th>\n",
       "      <td>2023-07-20</td>\n",
       "      <td>104</td>\n",
       "    </tr>\n",
       "    <tr>\n",
       "      <th>4</th>\n",
       "      <td>2023-07-21</td>\n",
       "      <td>72</td>\n",
       "    </tr>\n",
       "    <tr>\n",
       "      <th>5</th>\n",
       "      <td>2023-07-22</td>\n",
       "      <td>13</td>\n",
       "    </tr>\n",
       "    <tr>\n",
       "      <th>6</th>\n",
       "      <td>2023-07-24</td>\n",
       "      <td>144</td>\n",
       "    </tr>\n",
       "    <tr>\n",
       "      <th>7</th>\n",
       "      <td>2023-07-25</td>\n",
       "      <td>107</td>\n",
       "    </tr>\n",
       "    <tr>\n",
       "      <th>8</th>\n",
       "      <td>2023-07-26</td>\n",
       "      <td>554</td>\n",
       "    </tr>\n",
       "    <tr>\n",
       "      <th>9</th>\n",
       "      <td>2023-07-27</td>\n",
       "      <td>109</td>\n",
       "    </tr>\n",
       "    <tr>\n",
       "      <th>10</th>\n",
       "      <td>2023-07-28</td>\n",
       "      <td>177</td>\n",
       "    </tr>\n",
       "    <tr>\n",
       "      <th>11</th>\n",
       "      <td>2023-07-29</td>\n",
       "      <td>12</td>\n",
       "    </tr>\n",
       "  </tbody>\n",
       "</table>\n",
       "</div>"
      ],
      "text/plain": [
       "   FECHA_CREACION  N° Llamados\n",
       "0      2023-07-17           70\n",
       "1      2023-07-18           79\n",
       "2      2023-07-19          124\n",
       "3      2023-07-20          104\n",
       "4      2023-07-21           72\n",
       "5      2023-07-22           13\n",
       "6      2023-07-24          144\n",
       "7      2023-07-25          107\n",
       "8      2023-07-26          554\n",
       "9      2023-07-27          109\n",
       "10     2023-07-28          177\n",
       "11     2023-07-29           12"
      ]
     },
     "execution_count": 12,
     "metadata": {},
     "output_type": "execute_result"
    }
   ],
   "source": [
    "calls_per_day = call_df.groupby([call_df['FECHA_CREACION'].dt.date]).size().reset_index(name='N° Llamados')\n",
    "calls_per_day"
   ]
  },
  {
   "cell_type": "markdown",
   "id": "f035025f-2c9c-4861-8c0f-3a2d37434c45",
   "metadata": {},
   "source": [
    "Basado en este Dataframe se crea un grafico de barras mostrando la cantidad de llamados por fecha"
   ]
  },
  {
   "cell_type": "code",
   "execution_count": 13,
   "id": "627d8d68-c9b3-41de-b5c1-9a646f9346fa",
   "metadata": {},
   "outputs": [
    {
     "data": {
      "image/png": "[encoded data removed]",
      "text/plain": [
       "<Figure size 640x480 with 1 Axes>"
      ]
     },
     "metadata": {},
     "output_type": "display_data"
    },
    {
     "data": {
      "text/plain": [
       "<Figure size 1000x900 with 0 Axes>"
      ]
     },
     "metadata": {},
     "output_type": "display_data"
    }
   ],
   "source": [
    "calls_per_day_data = calls_per_day.copy()\n",
    "\n",
    "calls_plot = sns.barplot(x='FECHA_CREACION', y='N° Llamados',data=calls_per_day_data)\n",
    "calls_plot.set_title(\"Cantidad de llamadas por dia\")\n",
    "calls_plot.set_xlabel(\"Fecha\")\n",
    "plt.xticks(rotation=20)\n",
    "plt.figure(figsize = (10,9))\n",
    "\n",
    "calls_plot.figure.savefig(\"calls_per_day.png\", dpi=300)\n",
    "plt.show()"
   ]
  },
  {
   "cell_type": "markdown",
   "id": "3c307cad-6f48-48ca-9e05-cde15aea3e20",
   "metadata": {},
   "source": [
    "#### Grafico consultas/areas mas frecuentes"
   ]
  },
  {
   "cell_type": "markdown",
   "id": "258d803e-a019-43c7-b078-b4a1206dbf86",
   "metadata": {},
   "source": [
    "Al igual que la cantidad de llamados por dia, se agrupan en un nuevo Dataframe la cantidad de llamados que se tuvieron por carrera. Con estos datos se crea un grafico representativo"
   ]
  },
  {
   "cell_type": "code",
   "execution_count": 14,
   "id": "860709e2-9764-418b-97b9-f43b7b111b10",
   "metadata": {},
   "outputs": [
    {
     "data": {
      "text/html": [
       "<div>\n",
       "<style scoped>\n",
       "    .dataframe tbody tr th:only-of-type {\n",
       "        vertical-align: middle;\n",
       "    }\n",
       "\n",
       "    .dataframe tbody tr th {\n",
       "        vertical-align: top;\n",
       "    }\n",
       "\n",
       "    .dataframe thead th {\n",
       "        text-align: right;\n",
       "    }\n",
       "</style>\n",
       "<table border=\"1\" class=\"dataframe\">\n",
       "  <thead>\n",
       "    <tr style=\"text-align: right;\">\n",
       "      <th></th>\n",
       "      <th>CARRERA</th>\n",
       "      <th>N° Llamados por Carrera</th>\n",
       "    </tr>\n",
       "  </thead>\n",
       "  <tbody>\n",
       "    <tr>\n",
       "      <th>32</th>\n",
       "      <td>INGENIERÍA EN INFORMÁTICA</td>\n",
       "      <td>246</td>\n",
       "    </tr>\n",
       "    <tr>\n",
       "      <th>14</th>\n",
       "      <td>GASTRONOMÍA INTERNACIONAL</td>\n",
       "      <td>221</td>\n",
       "    </tr>\n",
       "    <tr>\n",
       "      <th>29</th>\n",
       "      <td>INGENIERÍA EN COMERCIO EXTERIOR</td>\n",
       "      <td>162</td>\n",
       "    </tr>\n",
       "    <tr>\n",
       "      <th>44</th>\n",
       "      <td>TURISMO Y HOTELERÍA</td>\n",
       "      <td>119</td>\n",
       "    </tr>\n",
       "    <tr>\n",
       "      <th>13</th>\n",
       "      <td>ECOTURISMO</td>\n",
       "      <td>80</td>\n",
       "    </tr>\n",
       "  </tbody>\n",
       "</table>\n",
       "</div>"
      ],
      "text/plain": [
       "                            CARRERA  N° Llamados por Carrera\n",
       "32        INGENIERÍA EN INFORMÁTICA                      246\n",
       "14        GASTRONOMÍA INTERNACIONAL                      221\n",
       "29  INGENIERÍA EN COMERCIO EXTERIOR                      162\n",
       "44              TURISMO Y HOTELERÍA                      119\n",
       "13                       ECOTURISMO                       80"
      ]
     },
     "execution_count": 14,
     "metadata": {},
     "output_type": "execute_result"
    }
   ],
   "source": [
    "carrers_data = call_df.groupby(call_df['CARRERA']).size().reset_index(name='N° Llamados por Carrera')\n",
    "carrers_data = carrers_data.sort_values(['N° Llamados por Carrera'], ascending=False)\n",
    "carrers_data.head()"
   ]
  },
  {
   "cell_type": "code",
   "execution_count": 15,
   "id": "006194f8-e14b-4bdf-ac1f-228c2b872d85",
   "metadata": {},
   "outputs": [
    {
     "data": {
      "image/png": "[encoded data removed]",
      "text/plain": [
       "<Figure size 640x480 with 1 Axes>"
      ]
     },
     "metadata": {},
     "output_type": "display_data"
    },
    {
     "data": {
      "text/plain": [
       "<Figure size 1200x900 with 0 Axes>"
      ]
     },
     "metadata": {},
     "output_type": "display_data"
    }
   ],
   "source": [
    "carrers_plot = sns.barplot(y='CARRERA', x='N° Llamados por Carrera',data=carrers_data.head(10))\n",
    "carrers_plot.set_title(\"Las 10 carreras con mas llamados\")\n",
    "carrers_plot.set_ylabel(\"Carrera\")\n",
    "plt.xticks(rotation=20)\n",
    "plt.figure(figsize = (12,9))\n",
    "\n",
    "carrers_plot.figure.savefig(\"carrers_calls.png\", dpi=300, bbox_inches='tight')\n",
    "plt.show()"
   ]
  },
  {
   "cell_type": "markdown",
   "id": "acc5d896-27d8-45ed-8954-99b16853f3b9",
   "metadata": {},
   "source": [
    "#### - Graficar consultas/areas mas frecuentes"
   ]
  },
  {
   "cell_type": "markdown",
   "id": "1d3d9b70-cda5-45c1-a0a2-95b2bf6e684d",
   "metadata": {},
   "source": [
    "Tambien se creo un Dataframe agrupando las areas de consultas designadas como \"Nivel_1\" en los datos para crear un grafico mostrando la cantidad de llamados por consulta/area"
   ]
  },
  {
   "cell_type": "code",
   "execution_count": 16,
   "id": "4a100992-90fd-441b-9143-f38acab433c8",
   "metadata": {},
   "outputs": [
    {
     "data": {
      "text/html": [
       "<div>\n",
       "<style scoped>\n",
       "    .dataframe tbody tr th:only-of-type {\n",
       "        vertical-align: middle;\n",
       "    }\n",
       "\n",
       "    .dataframe tbody tr th {\n",
       "        vertical-align: top;\n",
       "    }\n",
       "\n",
       "    .dataframe thead th {\n",
       "        text-align: right;\n",
       "    }\n",
       "</style>\n",
       "<table border=\"1\" class=\"dataframe\">\n",
       "  <thead>\n",
       "    <tr style=\"text-align: right;\">\n",
       "      <th></th>\n",
       "      <th>NIVEL_1</th>\n",
       "      <th>N° Llamados</th>\n",
       "    </tr>\n",
       "  </thead>\n",
       "  <tbody>\n",
       "    <tr>\n",
       "      <th>0</th>\n",
       "      <td>Académico</td>\n",
       "      <td>390</td>\n",
       "    </tr>\n",
       "    <tr>\n",
       "      <th>1</th>\n",
       "      <td>Financiamiento</td>\n",
       "      <td>279</td>\n",
       "    </tr>\n",
       "    <tr>\n",
       "      <th>2</th>\n",
       "      <td>Fuera de alcance</td>\n",
       "      <td>104</td>\n",
       "    </tr>\n",
       "    <tr>\n",
       "      <th>3</th>\n",
       "      <td>Gestión de abandono</td>\n",
       "      <td>3</td>\n",
       "    </tr>\n",
       "    <tr>\n",
       "      <th>4</th>\n",
       "      <td>Información general</td>\n",
       "      <td>92</td>\n",
       "    </tr>\n",
       "  </tbody>\n",
       "</table>\n",
       "</div>"
      ],
      "text/plain": [
       "                NIVEL_1  N° Llamados\n",
       "0             Académico          390\n",
       "1        Financiamiento          279\n",
       "2      Fuera de alcance          104\n",
       "3  Gestión de abandono             3\n",
       "4   Información general           92"
      ]
     },
     "execution_count": 16,
     "metadata": {},
     "output_type": "execute_result"
    }
   ],
   "source": [
    "level_1 = call_df.groupby(call_df['NIVEL_1']).size().reset_index(name='N° Llamados')\n",
    "level_1.head()"
   ]
  },
  {
   "cell_type": "code",
   "execution_count": 17,
   "id": "78090907-e0fc-437c-990e-a4a49135d8ee",
   "metadata": {},
   "outputs": [
    {
     "data": {
      "image/png": "[encoded data removed]",
      "text/plain": [
       "<Figure size 640x480 with 1 Axes>"
      ]
     },
     "metadata": {},
     "output_type": "display_data"
    },
    {
     "data": {
      "text/plain": [
       "<Figure size 1000x900 with 0 Axes>"
      ]
     },
     "metadata": {},
     "output_type": "display_data"
    }
   ],
   "source": [
    "fig, ax = plt.subplots()\n",
    "\n",
    "ax.pie(level_1[\"N° Llamados\"], labels=level_1[\"NIVEL_1\"], autopct='%1.1f%%', pctdistance=0.8, labeldistance=1.2)\n",
    "\n",
    "plt.title(\"Desglose de llamados por area\")\n",
    "plt.figure(figsize = (10,9))\n",
    "fig.savefig(\"calls_per_area.png\", dpi=300, bbox_inches='tight')\n",
    "\n",
    "plt.show()"
   ]
  },
  {
   "cell_type": "markdown",
   "id": "5f63f507-5421-47c7-9149-0cd493f94396",
   "metadata": {},
   "source": [
    "#### Graficar consultas/areas agrupadas por dia"
   ]
  },
  {
   "cell_type": "markdown",
   "id": "4798bfbf-321c-4e05-83d6-9549b66ad086",
   "metadata": {},
   "source": [
    "Por ultimo, se agruparon el numero de llamados por area y la fecha. Para hacer un grafico de barras que desglose la cantidad de consultas de cada area por dia. Se puede notar que dia ocurrieron las inscripciones basada en el alto volumen de llamados y la cantidad de consultas sobre inscripcion, particularmente el 26, 27 y 28 de Julio."
   ]
  },
  {
   "cell_type": "code",
   "execution_count": 18,
   "id": "224cdf8b-6bae-4db0-9a89-5bd5f9157c3e",
   "metadata": {},
   "outputs": [
    {
     "data": {
      "text/html": [
       "<div>\n",
       "<style scoped>\n",
       "    .dataframe tbody tr th:only-of-type {\n",
       "        vertical-align: middle;\n",
       "    }\n",
       "\n",
       "    .dataframe tbody tr th {\n",
       "        vertical-align: top;\n",
       "    }\n",
       "\n",
       "    .dataframe thead th {\n",
       "        text-align: right;\n",
       "    }\n",
       "</style>\n",
       "<table border=\"1\" class=\"dataframe\">\n",
       "  <thead>\n",
       "    <tr style=\"text-align: right;\">\n",
       "      <th></th>\n",
       "      <th>FECHA_CREACION</th>\n",
       "      <th>NIVEL_1</th>\n",
       "      <th>N° Llamados</th>\n",
       "    </tr>\n",
       "  </thead>\n",
       "  <tbody>\n",
       "    <tr>\n",
       "      <th>0</th>\n",
       "      <td>2023-07-17</td>\n",
       "      <td>Académico</td>\n",
       "      <td>30</td>\n",
       "    </tr>\n",
       "    <tr>\n",
       "      <th>1</th>\n",
       "      <td>2023-07-17</td>\n",
       "      <td>Financiamiento</td>\n",
       "      <td>22</td>\n",
       "    </tr>\n",
       "    <tr>\n",
       "      <th>2</th>\n",
       "      <td>2023-07-17</td>\n",
       "      <td>Fuera de alcance</td>\n",
       "      <td>4</td>\n",
       "    </tr>\n",
       "    <tr>\n",
       "      <th>3</th>\n",
       "      <td>2023-07-17</td>\n",
       "      <td>Información general</td>\n",
       "      <td>4</td>\n",
       "    </tr>\n",
       "    <tr>\n",
       "      <th>4</th>\n",
       "      <td>2023-07-17</td>\n",
       "      <td>Inscripción de asign</td>\n",
       "      <td>3</td>\n",
       "    </tr>\n",
       "    <tr>\n",
       "      <th>...</th>\n",
       "      <td>...</td>\n",
       "      <td>...</td>\n",
       "      <td>...</td>\n",
       "    </tr>\n",
       "    <tr>\n",
       "      <th>82</th>\n",
       "      <td>2023-07-28</td>\n",
       "      <td>Titulado</td>\n",
       "      <td>1</td>\n",
       "    </tr>\n",
       "    <tr>\n",
       "      <th>83</th>\n",
       "      <td>2023-07-28</td>\n",
       "      <td>Vida estudiantil</td>\n",
       "      <td>1</td>\n",
       "    </tr>\n",
       "    <tr>\n",
       "      <th>84</th>\n",
       "      <td>2023-07-29</td>\n",
       "      <td>Académico</td>\n",
       "      <td>3</td>\n",
       "    </tr>\n",
       "    <tr>\n",
       "      <th>85</th>\n",
       "      <td>2023-07-29</td>\n",
       "      <td>Fuera de alcance</td>\n",
       "      <td>1</td>\n",
       "    </tr>\n",
       "    <tr>\n",
       "      <th>86</th>\n",
       "      <td>2023-07-29</td>\n",
       "      <td>Inscripción de asign</td>\n",
       "      <td>8</td>\n",
       "    </tr>\n",
       "  </tbody>\n",
       "</table>\n",
       "<p>87 rows × 3 columns</p>\n",
       "</div>"
      ],
      "text/plain": [
       "   FECHA_CREACION               NIVEL_1  N° Llamados\n",
       "0      2023-07-17             Académico           30\n",
       "1      2023-07-17        Financiamiento           22\n",
       "2      2023-07-17      Fuera de alcance            4\n",
       "3      2023-07-17   Información general            4\n",
       "4      2023-07-17  Inscripción de asign            3\n",
       "..            ...                   ...          ...\n",
       "82     2023-07-28              Titulado            1\n",
       "83     2023-07-28      Vida estudiantil            1\n",
       "84     2023-07-29             Académico            3\n",
       "85     2023-07-29      Fuera de alcance            1\n",
       "86     2023-07-29  Inscripción de asign            8\n",
       "\n",
       "[87 rows x 3 columns]"
      ]
     },
     "execution_count": 18,
     "metadata": {},
     "output_type": "execute_result"
    }
   ],
   "source": [
    "grouped_calls = call_df.groupby([call_df['FECHA_CREACION'].dt.date, \"NIVEL_1\"]).size().reset_index(name='N° Llamados')\n",
    "grouped_calls"
   ]
  },
  {
   "cell_type": "code",
   "execution_count": 19,
   "id": "1a5b468a-dddd-4bc8-8566-5243bfe9011b",
   "metadata": {},
   "outputs": [
    {
     "data": {
      "image/png": "[encoded data removed]",
      "text/plain": [
       "<Figure size 640x480 with 1 Axes>"
      ]
     },
     "metadata": {},
     "output_type": "display_data"
    },
    {
     "data": {
      "text/plain": [
       "<Figure size 2000x2000 with 0 Axes>"
      ]
     },
     "metadata": {},
     "output_type": "display_data"
    }
   ],
   "source": [
    "grouped_calls_plot = sns.barplot(x='FECHA_CREACION', y='N° Llamados', data=grouped_calls, hue=\"NIVEL_1\")\n",
    "grouped_calls_plot.set_title(\"Cantidad de llamadas por dia y area\")\n",
    "grouped_calls_plot.set_xlabel(\"Fecha\")\n",
    "grouped_calls_plot.legend(title=\"Area\")\n",
    "plt.xticks(rotation=20)\n",
    "plt.figure(figsize = (20,20))\n",
    "\n",
    "grouped_calls_plot.figure.savefig(\"calls_per_day_area.png\", dpi=600, bbox_inches='tight')\n",
    "plt.show()"
   ]
  }
 ],
 "metadata": {
  "kernelspec": {
   "display_name": "Python 3 (ipykernel)",
   "language": "python",
   "name": "python3"
  },
  "language_info": {
   "codemirror_mode": {
    "name": "ipython",
    "version": 3
   },
   "file_extension": ".py",
   "mimetype": "text/x-python",
   "name": "python",
   "nbconvert_exporter": "python",
   "pygments_lexer": "ipython3",
   "version": "3.11.4"
  }
 },
 "nbformat": 4,
 "nbformat_minor": 5
}
